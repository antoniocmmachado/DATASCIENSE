{
 "cells": [
  {
   "cell_type": "markdown",
   "id": "35693560-4350-4161-8940-5e164176f99a",
   "metadata": {
    "jp-MarkdownHeadingCollapsed": true
   },
   "source": [
    "####  OBJETIVO A TREINAMENTO DE DADOS E ENCONTRAR VALORES SIMILARES AO DA AMOSTRA"
   ]
  },
  {
   "cell_type": "markdown",
   "id": "9820dc54-d371-415f-abe2-24532b0836be",
   "metadata": {
    "jp-MarkdownHeadingCollapsed": true
   },
   "source": [
    "#### Importando Bibliotecas"
   ]
  },
  {
   "cell_type": "code",
   "execution_count": 12,
   "id": "61aa9d7b-3c64-44f6-942f-7c329da8e00d",
   "metadata": {},
   "outputs": [
    {
     "name": "stdout",
     "output_type": "stream",
     "text": [
      "Requirement already satisfied: scikit-learn in c:\\users\\antonio carlos\\anaconda3\\lib\\site-packages (1.2.2)\n",
      "Requirement already satisfied: numpy>=1.17.3 in c:\\users\\antonio carlos\\anaconda3\\lib\\site-packages (from scikit-learn) (1.26.4)\n",
      "Requirement already satisfied: scipy>=1.3.2 in c:\\users\\antonio carlos\\anaconda3\\lib\\site-packages (from scikit-learn) (1.11.4)\n",
      "Requirement already satisfied: joblib>=1.1.1 in c:\\users\\antonio carlos\\anaconda3\\lib\\site-packages (from scikit-learn) (1.2.0)\n",
      "Requirement already satisfied: threadpoolctl>=2.0.0 in c:\\users\\antonio carlos\\anaconda3\\lib\\site-packages (from scikit-learn) (2.2.0)\n"
     ]
    }
   ],
   "source": [
    "!pip install scikit-learn"
   ]
  },
  {
   "cell_type": "code",
   "execution_count": 16,
   "id": "4bc950d6-6cf4-44fb-9feb-b4a683611db2",
   "metadata": {},
   "outputs": [],
   "source": [
    "import numpy as np\n",
    "import matplotlib.pyplot as plt\n",
    "import pandas as pd\n",
    "import numpy as np\n",
    "from sklearn import preprocessing"
   ]
  },
  {
   "cell_type": "markdown",
   "id": "79b3d36a-2c4b-413e-ad53-54089cf773dd",
   "metadata": {
    "jp-MarkdownHeadingCollapsed": true
   },
   "source": [
    "#### SOBRE O DATA SET\n",
    "\n",
    "###### Imagine que um provedor de telecomunicações segmentou sua base de clientes por padrões de uso de serviços, categorizando os clientes em quatro grupos. Se os dados demográficos puderem ser usados para prever a associação ao grupo, a empresa poderá personalizar ofertas para clientes potenciais individuais. É um problema de classificação. Ou seja, dado o conjunto de dados, com rótulos predefinidos, precisamos construir um modelo a ser usado para prever a classe de um caso novo ou desconhecido.O exemplo se concentra no uso de dados demográficos, como região"
   ]
  },
  {
   "cell_type": "markdown",
   "id": "a7b65f15-fb8c-4143-94be-3f3e6b641803",
   "metadata": {
    "jp-MarkdownHeadingCollapsed": true
   },
   "source": [
    "#### BAIXANDO OS DADOS:"
   ]
  },
  {
   "cell_type": "code",
   "execution_count": 17,
   "id": "5dcefcf8-58a1-49f8-914c-09f342294fd2",
   "metadata": {},
   "outputs": [
    {
     "data": {
      "text/html": [
       "<div>\n",
       "<style scoped>\n",
       "    .dataframe tbody tr th:only-of-type {\n",
       "        vertical-align: middle;\n",
       "    }\n",
       "\n",
       "    .dataframe tbody tr th {\n",
       "        vertical-align: top;\n",
       "    }\n",
       "\n",
       "    .dataframe thead th {\n",
       "        text-align: right;\n",
       "    }\n",
       "</style>\n",
       "<table border=\"1\" class=\"dataframe\">\n",
       "  <thead>\n",
       "    <tr style=\"text-align: right;\">\n",
       "      <th></th>\n",
       "      <th>region</th>\n",
       "      <th>tenure</th>\n",
       "      <th>age</th>\n",
       "      <th>marital</th>\n",
       "      <th>address</th>\n",
       "      <th>income</th>\n",
       "      <th>ed</th>\n",
       "      <th>employ</th>\n",
       "      <th>retire</th>\n",
       "      <th>gender</th>\n",
       "      <th>reside</th>\n",
       "      <th>custcat</th>\n",
       "    </tr>\n",
       "  </thead>\n",
       "  <tbody>\n",
       "    <tr>\n",
       "      <th>0</th>\n",
       "      <td>2</td>\n",
       "      <td>13</td>\n",
       "      <td>44</td>\n",
       "      <td>1</td>\n",
       "      <td>9</td>\n",
       "      <td>64.0</td>\n",
       "      <td>4</td>\n",
       "      <td>5</td>\n",
       "      <td>0.0</td>\n",
       "      <td>0</td>\n",
       "      <td>2</td>\n",
       "      <td>1</td>\n",
       "    </tr>\n",
       "    <tr>\n",
       "      <th>1</th>\n",
       "      <td>3</td>\n",
       "      <td>11</td>\n",
       "      <td>33</td>\n",
       "      <td>1</td>\n",
       "      <td>7</td>\n",
       "      <td>136.0</td>\n",
       "      <td>5</td>\n",
       "      <td>5</td>\n",
       "      <td>0.0</td>\n",
       "      <td>0</td>\n",
       "      <td>6</td>\n",
       "      <td>4</td>\n",
       "    </tr>\n",
       "    <tr>\n",
       "      <th>2</th>\n",
       "      <td>3</td>\n",
       "      <td>68</td>\n",
       "      <td>52</td>\n",
       "      <td>1</td>\n",
       "      <td>24</td>\n",
       "      <td>116.0</td>\n",
       "      <td>1</td>\n",
       "      <td>29</td>\n",
       "      <td>0.0</td>\n",
       "      <td>1</td>\n",
       "      <td>2</td>\n",
       "      <td>3</td>\n",
       "    </tr>\n",
       "    <tr>\n",
       "      <th>3</th>\n",
       "      <td>2</td>\n",
       "      <td>33</td>\n",
       "      <td>33</td>\n",
       "      <td>0</td>\n",
       "      <td>12</td>\n",
       "      <td>33.0</td>\n",
       "      <td>2</td>\n",
       "      <td>0</td>\n",
       "      <td>0.0</td>\n",
       "      <td>1</td>\n",
       "      <td>1</td>\n",
       "      <td>1</td>\n",
       "    </tr>\n",
       "    <tr>\n",
       "      <th>4</th>\n",
       "      <td>2</td>\n",
       "      <td>23</td>\n",
       "      <td>30</td>\n",
       "      <td>1</td>\n",
       "      <td>9</td>\n",
       "      <td>30.0</td>\n",
       "      <td>1</td>\n",
       "      <td>2</td>\n",
       "      <td>0.0</td>\n",
       "      <td>0</td>\n",
       "      <td>4</td>\n",
       "      <td>3</td>\n",
       "    </tr>\n",
       "  </tbody>\n",
       "</table>\n",
       "</div>"
      ],
      "text/plain": [
       "   region  tenure  age  marital  address  income  ed  employ  retire  gender  \\\n",
       "0       2      13   44        1        9    64.0   4       5     0.0       0   \n",
       "1       3      11   33        1        7   136.0   5       5     0.0       0   \n",
       "2       3      68   52        1       24   116.0   1      29     0.0       1   \n",
       "3       2      33   33        0       12    33.0   2       0     0.0       1   \n",
       "4       2      23   30        1        9    30.0   1       2     0.0       0   \n",
       "\n",
       "   reside  custcat  \n",
       "0       2        1  \n",
       "1       6        4  \n",
       "2       2        3  \n",
       "3       1        1  \n",
       "4       4        3  "
      ]
     },
     "execution_count": 17,
     "metadata": {},
     "output_type": "execute_result"
    }
   ],
   "source": [
    "df = pd.read_csv('https://cf-courses-data.s3.us.cloud-object-storage.appdomain.cloud/IBMDeveloperSkillsNetwork-ML0101EN-SkillsNetwork/labs/Module%203/data/teleCust1000t.csv')\n",
    "df.head()"
   ]
  },
  {
   "cell_type": "markdown",
   "id": "6c3f15dd-891a-409d-bf80-44477fea83e3",
   "metadata": {},
   "source": [
    "<div id=\"Visualização e Análise\">\n",
    "    <h2>Visualização e Analise dos Dados</h2> \n",
    "</div>"
   ]
  },
  {
   "cell_type": "markdown",
   "id": "e72f5fa4-9c55-406d-bd2b-dc5b8e463324",
   "metadata": {},
   "source": [
    "###### Classes e Quantidade por Classe"
   ]
  },
  {
   "cell_type": "code",
   "execution_count": 20,
   "id": "3269abf0-8061-4393-a090-1ba723e6f7d1",
   "metadata": {},
   "outputs": [
    {
     "data": {
      "text/plain": [
       "custcat\n",
       "3    281\n",
       "1    266\n",
       "4    236\n",
       "2    217\n",
       "Name: count, dtype: int64"
      ]
     },
     "execution_count": 20,
     "metadata": {},
     "output_type": "execute_result"
    }
   ],
   "source": [
    "df['custcat'].value_counts()"
   ]
  },
  {
   "cell_type": "markdown",
   "id": "983bf718-2fa0-4361-8cee-98de439a7a83",
   "metadata": {},
   "source": [
    "###### 281 Serviço Plus, 266 Serviço Básico, 236 Serviço Total , e 217 Serviço Customizado"
   ]
  },
  {
   "cell_type": "markdown",
   "id": "08adc343-0a10-4122-8007-e016246c2e10",
   "metadata": {},
   "source": [
    "###### Visualizando com o Histograma"
   ]
  },
  {
   "cell_type": "code",
   "execution_count": 23,
   "id": "4bf6f4fa-9da2-49ee-8ad8-f839ffb10fbc",
   "metadata": {},
   "outputs": [
    {
     "data": {
      "text/plain": [
       "array([[<Axes: title={'center': 'income'}>]], dtype=object)"
      ]
     },
     "execution_count": 23,
     "metadata": {},
     "output_type": "execute_result"
    },
    {
     "data": {
      "image/png": "[encoded data removed]",
      "text/plain": [
       "<Figure size 640x480 with 1 Axes>"
      ]
     },
     "metadata": {},
     "output_type": "display_data"
    }
   ],
   "source": [
    "df.hist(column = 'income',bins = 30)"
   ]
  },
  {
   "cell_type": "markdown",
   "id": "d93bdd96-67f5-45fc-9280-7e7b317ca596",
   "metadata": {},
   "source": [
    "#### Conjunto de Recursos"
   ]
  },
  {
   "cell_type": "markdown",
   "id": "d9731295-dbe9-49d0-849a-5f666c6f3da4",
   "metadata": {},
   "source": [
    "###### Definindo conjuntos de recursos'X'"
   ]
  },
  {
   "cell_type": "code",
   "execution_count": 27,
   "id": "be46cc66-9a12-4800-b1e6-58ebea43a1de",
   "metadata": {},
   "outputs": [
    {
     "data": {
      "text/plain": [
       "Index(['region', 'tenure', 'age', 'marital', 'address', 'income', 'ed',\n",
       "       'employ', 'retire', 'gender', 'reside', 'custcat'],\n",
       "      dtype='object')"
      ]
     },
     "execution_count": 27,
     "metadata": {},
     "output_type": "execute_result"
    }
   ],
   "source": [
    "df.columns"
   ]
  },
  {
   "cell_type": "code",
   "execution_count": 30,
   "id": "1c3b9d6a-1281-46ee-888c-3837a15d8e9f",
   "metadata": {},
   "outputs": [
    {
     "data": {
      "text/plain": [
       "array([[  2.,  13.,  44.,   1.,   9.,  64.,   4.,   5.,   0.,   0.,   2.],\n",
       "       [  3.,  11.,  33.,   1.,   7., 136.,   5.,   5.,   0.,   0.,   6.],\n",
       "       [  3.,  68.,  52.,   1.,  24., 116.,   1.,  29.,   0.,   1.,   2.],\n",
       "       [  2.,  33.,  33.,   0.,  12.,  33.,   2.,   0.,   0.,   1.,   1.],\n",
       "       [  2.,  23.,  30.,   1.,   9.,  30.,   1.,   2.,   0.,   0.,   4.]])"
      ]
     },
     "execution_count": 30,
     "metadata": {},
     "output_type": "execute_result"
    }
   ],
   "source": [
    "x=df[['region','tenure','age','marital','address','income','ed','employ','retire','gender','reside']].values # ajustar.astype(float)\n",
    "x[0:5]"
   ]
  },
  {
   "cell_type": "markdown",
   "id": "af0b066c-26f0-4056-9a18-2f5b70c005ab",
   "metadata": {},
   "source": [
    "#### Verificando os Rótulos"
   ]
  },
  {
   "cell_type": "code",
   "execution_count": 32,
   "id": "38a1065c-da4a-4b4c-b6ec-6ef8fbb49523",
   "metadata": {},
   "outputs": [
    {
     "data": {
      "text/plain": [
       "array([1, 4, 3, 1, 3], dtype=int64)"
      ]
     },
     "execution_count": 32,
     "metadata": {},
     "output_type": "execute_result"
    }
   ],
   "source": [
    "y=df['custcat'].values\n",
    "y[0:5]"
   ]
  },
  {
   "cell_type": "markdown",
   "id": "500d9add-70d7-4594-9ad3-3479b7f52505",
   "metadata": {},
   "source": [
    "#### Normalizando Dados"
   ]
  },
  {
   "cell_type": "markdown",
   "id": "f67772ad-6717-4f76-8f3a-ef9935465d92",
   "metadata": {},
   "source": [
    "###### A padronização de dados dá aos dados zero média e variância unitária, é uma boa prática, especialmente para algoritmos como o KNN que se baseia na distância dos pontos de dados:"
   ]
  },
  {
   "cell_type": "code",
   "execution_count": 34,
   "id": "095042fe-bb69-4137-8c68-633e27db531d",
   "metadata": {},
   "outputs": [
    {
     "data": {
      "text/plain": [
       "array([[-0.02696767, -1.055125  ,  0.18450456,  1.0100505 , -0.25303431,\n",
       "        -0.12650641,  1.0877526 , -0.5941226 , -0.22207644, -1.03459817,\n",
       "        -0.23065004],\n",
       "       [ 1.19883553, -1.14880563, -0.69181243,  1.0100505 , -0.4514148 ,\n",
       "         0.54644972,  1.9062271 , -0.5941226 , -0.22207644, -1.03459817,\n",
       "         2.55666158],\n",
       "       [ 1.19883553,  1.52109247,  0.82182601,  1.0100505 ,  1.23481934,\n",
       "         0.35951747, -1.36767088,  1.78752803, -0.22207644,  0.96655883,\n",
       "        -0.23065004],\n",
       "       [-0.02696767, -0.11831864, -0.69181243, -0.9900495 ,  0.04453642,\n",
       "        -0.41625141, -0.54919639, -1.09029981, -0.22207644,  0.96655883,\n",
       "        -0.92747794],\n",
       "       [-0.02696767, -0.58672182, -0.93080797,  1.0100505 , -0.25303431,\n",
       "        -0.44429125, -1.36767088, -0.89182893, -0.22207644, -1.03459817,\n",
       "         1.16300577]])"
      ]
     },
     "execution_count": 34,
     "metadata": {},
     "output_type": "execute_result"
    }
   ],
   "source": [
    "x = preprocessing.StandardScaler().fit(x).transform(x.astype(float))\n",
    "x[0:5]"
   ]
  },
  {
   "cell_type": "markdown",
   "id": "5c7af4ea-13c5-4365-b6cc-d9f6705b6649",
   "metadata": {},
   "source": [
    "#### Train Test Split"
   ]
  },
  {
   "cell_type": "markdown",
   "id": "b7fffd97-7ad8-4149-ad68-1714d5a69f2e",
   "metadata": {},
   "source": [
    "###### Fora da Precisão da Amostra é a porcentagem de previsões corretas que o modelo faz em dados nos quais o modelo NÃO foi treinado. Fazer um treinamento e um teste no mesmo conjunto de dados provavelmente terá baixa precisão fora da amostra, devido à probabilidade de nosso modelo se sobreajustar.É importante que nossos modelos tenham uma precisão alta e fora da amostra, porque o objetivo de qualquer modelo, é claro, é fazer previsões corretas em dados desconhecidos. Então, como podemos melhorar a precisão fora da amostra? Uma maneira é usar"
   ]
  },
  {
   "cell_type": "code",
   "execution_count": 42,
   "id": "cd2c1be4-763c-45cf-94c8-ab4b1eb4c682",
   "metadata": {},
   "outputs": [
    {
     "name": "stdout",
     "output_type": "stream",
     "text": [
      "Set Treino:  (800, 11) (800,)\n",
      "Set Teste:  (200, 11) (200,)\n"
     ]
    }
   ],
   "source": [
    "from sklearn.model_selection import train_test_split\n",
    "x_train,x_test,y_train,y_test = train_test_split(x,y, test_size=0.2,random_state=4)\n",
    "print ('Set Treino: ',x_train.shape, y_train.shape)\n",
    "print ('Set Teste: ', x_test.shape, y_test.shape)"
   ]
  },
  {
   "cell_type": "markdown",
   "id": "7fac68fc-960f-436f-b190-622b029b1674",
   "metadata": {},
   "source": [
    "#### Classificação"
   ]
  },
  {
   "cell_type": "markdown",
   "id": "d3b0914c-e9b6-41db-8857-e758db9ae926",
   "metadata": {},
   "source": [
    "###### Implementando a Classificação Kneighbors"
   ]
  },
  {
   "cell_type": "code",
   "execution_count": 39,
   "id": "8aaa6b81-be3e-462c-bea8-a617e6324153",
   "metadata": {},
   "outputs": [],
   "source": [
    "from sklearn.neighbors import KNeighborsClassifier"
   ]
  },
  {
   "cell_type": "markdown",
   "id": "75579302-2c75-41e7-bfe0-7aab448fa67f",
   "metadata": {},
   "source": [
    "#### Treinando"
   ]
  },
  {
   "cell_type": "markdown",
   "id": "925ccfd9-b010-40c7-bef8-ccdf5713cd1e",
   "metadata": {},
   "source": [
    "###### Testar com k=4"
   ]
  },
  {
   "cell_type": "code",
   "execution_count": 44,
   "id": "d9662313-2134-4f4c-b578-3a09f59ffc64",
   "metadata": {},
   "outputs": [
    {
     "data": {
      "text/html": [
       "<style>#sk-container-id-2 {color: black;background-color: white;}#sk-container-id-2 pre{padding: 0;}#sk-container-id-2 div.sk-toggleable {background-color: white;}#sk-container-id-2 label.sk-toggleable__label {cursor: pointer;display: block;width: 100%;margin-bottom: 0;padding: 0.3em;box-sizing: border-box;text-align: center;}#sk-container-id-2 label.sk-toggleable__label-arrow:before {content: \"▸\";float: left;margin-right: 0.25em;color: #696969;}#sk-container-id-2 label.sk-toggleable__label-arrow:hover:before {color: black;}#sk-container-id-2 div.sk-estimator:hover label.sk-toggleable__label-arrow:before {color: black;}#sk-container-id-2 div.sk-toggleable__content {max-height: 0;max-width: 0;overflow: hidden;text-align: left;background-color: #f0f8ff;}#sk-container-id-2 div.sk-toggleable__content pre {margin: 0.2em;color: black;border-radius: 0.25em;background-color: #f0f8ff;}#sk-container-id-2 input.sk-toggleable__control:checked~div.sk-toggleable__content {max-height: 200px;max-width: 100%;overflow: auto;}#sk-container-id-2 input.sk-toggleable__control:checked~label.sk-toggleable__label-arrow:before {content: \"▾\";}#sk-container-id-2 div.sk-estimator input.sk-toggleable__control:checked~label.sk-toggleable__label {background-color: #d4ebff;}#sk-container-id-2 div.sk-label input.sk-toggleable__control:checked~label.sk-toggleable__label {background-color: #d4ebff;}#sk-container-id-2 input.sk-hidden--visually {border: 0;clip: rect(1px 1px 1px 1px);clip: rect(1px, 1px, 1px, 1px);height: 1px;margin: -1px;overflow: hidden;padding: 0;position: absolute;width: 1px;}#sk-container-id-2 div.sk-estimator {font-family: monospace;background-color: #f0f8ff;border: 1px dotted black;border-radius: 0.25em;box-sizing: border-box;margin-bottom: 0.5em;}#sk-container-id-2 div.sk-estimator:hover {background-color: #d4ebff;}#sk-container-id-2 div.sk-parallel-item::after {content: \"\";width: 100%;border-bottom: 1px solid gray;flex-grow: 1;}#sk-container-id-2 div.sk-label:hover label.sk-toggleable__label {background-color: #d4ebff;}#sk-container-id-2 div.sk-serial::before {content: \"\";position: absolute;border-left: 1px solid gray;box-sizing: border-box;top: 0;bottom: 0;left: 50%;z-index: 0;}#sk-container-id-2 div.sk-serial {display: flex;flex-direction: column;align-items: center;background-color: white;padding-right: 0.2em;padding-left: 0.2em;position: relative;}#sk-container-id-2 div.sk-item {position: relative;z-index: 1;}#sk-container-id-2 div.sk-parallel {display: flex;align-items: stretch;justify-content: center;background-color: white;position: relative;}#sk-container-id-2 div.sk-item::before, #sk-container-id-2 div.sk-parallel-item::before {content: \"\";position: absolute;border-left: 1px solid gray;box-sizing: border-box;top: 0;bottom: 0;left: 50%;z-index: -1;}#sk-container-id-2 div.sk-parallel-item {display: flex;flex-direction: column;z-index: 1;position: relative;background-color: white;}#sk-container-id-2 div.sk-parallel-item:first-child::after {align-self: flex-end;width: 50%;}#sk-container-id-2 div.sk-parallel-item:last-child::after {align-self: flex-start;width: 50%;}#sk-container-id-2 div.sk-parallel-item:only-child::after {width: 0;}#sk-container-id-2 div.sk-dashed-wrapped {border: 1px dashed gray;margin: 0 0.4em 0.5em 0.4em;box-sizing: border-box;padding-bottom: 0.4em;background-color: white;}#sk-container-id-2 div.sk-label label {font-family: monospace;font-weight: bold;display: inline-block;line-height: 1.2em;}#sk-container-id-2 div.sk-label-container {text-align: center;}#sk-container-id-2 div.sk-container {/* jupyter's `normalize.less` sets `[hidden] { display: none; }` but bootstrap.min.css set `[hidden] { display: none !important; }` so we also need the `!important` here to be able to override the default hidden behavior on the sphinx rendered scikit-learn.org. See: https://github.com/scikit-learn/scikit-learn/issues/21755 */display: inline-block !important;position: relative;}#sk-container-id-2 div.sk-text-repr-fallback {display: none;}</style><div id=\"sk-container-id-2\" class=\"sk-top-container\"><div class=\"sk-text-repr-fallback\"><pre>KNeighborsClassifier(n_neighbors=4)</pre><b>In a Jupyter environment, please rerun this cell to show the HTML representation or trust the notebook. <br />On GitHub, the HTML representation is unable to render, please try loading this page with nbviewer.org.</b></div><div class=\"sk-container\" hidden><div class=\"sk-item\"><div class=\"sk-estimator sk-toggleable\"><input class=\"sk-toggleable__control sk-hidden--visually\" id=\"sk-estimator-id-2\" type=\"checkbox\" checked><label for=\"sk-estimator-id-2\" class=\"sk-toggleable__label sk-toggleable__label-arrow\">KNeighborsClassifier</label><div class=\"sk-toggleable__content\"><pre>KNeighborsClassifier(n_neighbors=4)</pre></div></div></div></div></div>"
      ],
      "text/plain": [
       "KNeighborsClassifier(n_neighbors=4)"
      ]
     },
     "execution_count": 44,
     "metadata": {},
     "output_type": "execute_result"
    }
   ],
   "source": [
    "k=4\n",
    "neigh = KNeighborsClassifier(n_neighbors=k).fit(x_train, y_train)\n",
    "neigh"
   ]
  },
  {
   "cell_type": "markdown",
   "id": "b2b3cb1d-6613-4258-9f46-962731cfa776",
   "metadata": {},
   "source": [
    "#### Previsão\n",
    "\n",
    "Vamos fazer previsões utilizando o modelo "
   ]
  },
  {
   "cell_type": "code",
   "execution_count": 47,
   "id": "38c4a53a-4acb-48a3-a19c-7e95a1b5ab04",
   "metadata": {},
   "outputs": [
    {
     "data": {
      "text/plain": [
       "array([1, 1, 3, 2, 4], dtype=int64)"
      ]
     },
     "execution_count": 47,
     "metadata": {},
     "output_type": "execute_result"
    }
   ],
   "source": [
    "yhat= neigh.predict(x_test)\n",
    "yhat [0:5]"
   ]
  },
  {
   "cell_type": "markdown",
   "id": "9a017370-acdb-4eaf-adef-35bc6b7dfb45",
   "metadata": {},
   "source": [
    "### Avaliação da acurácia\n",
    "\n",
    "Na classificação multilabel, **pontuação de classificação de precisão** é uma função que calcula a precisão do subconjunto. Esta função é igual à função jaccard_score. Essencialmente, ele calcula o quanto os rótulos reais e os rótulos previstos são correspondidos no conjunto de teste.\n"
   ]
  },
  {
   "cell_type": "code",
   "execution_count": 48,
   "id": "eae4e509-7bcf-4bb1-aa86-57e2f7b1c73b",
   "metadata": {},
   "outputs": [
    {
     "name": "stdout",
     "output_type": "stream",
     "text": [
      "Set Acurácia Treino:  0.5475\n",
      "Set Acurácia Teste:  0.32\n"
     ]
    }
   ],
   "source": [
    "from sklearn import metrics\n",
    "print(\"Set Acurácia Treino: \",metrics.accuracy_score(y_train,neigh.predict(x_train)))\n",
    "print(\"Set Acurácia Teste: \", metrics.accuracy_score(y_test,yhat))"
   ]
  },
  {
   "cell_type": "code",
   "execution_count": 49,
   "id": "bd3e7f6f-df01-4761-8728-070d0d08b26e",
   "metadata": {},
   "outputs": [],
   "source": [
    "#### outro teste de previsão com k=6"
   ]
  },
  {
   "cell_type": "code",
   "execution_count": 50,
   "id": "2dd42f26-a690-4cd8-aeac-bec3a6863500",
   "metadata": {},
   "outputs": [
    {
     "name": "stdout",
     "output_type": "stream",
     "text": [
      "Set Acurácia Treino:  0.51625\n",
      "Set Acurácia Teste:  0.31\n"
     ]
    }
   ],
   "source": [
    "k=6\n",
    "neigh6=KNeighborsClassifier(n_neighbors=k).fit(x_train,y_train)\n",
    "yhat6=neigh6.predict(x_test)\n",
    "print(\"Set Acurácia Treino: \",metrics.accuracy_score(y_train, neigh6.predict(x_train)))\n",
    "print(\"Set Acurácia Teste: \",metrics.accuracy_score(y_test,yhat6))"
   ]
  },
  {
   "cell_type": "markdown",
   "id": "6d5dee9e-54fc-4164-b35b-69bcbe5336ea",
   "metadata": {},
   "source": [
    "#### E os outros K?\n",
    "\n",
    "K em KNN, é o número de vizinhos mais próximos a examinar. Ele deve ser especificado pelo usuário. Então, como podemos escolher o valor certo para K?\n",
    "A solução geral é reservar uma parte de seus dados para testar a precisão do modelo. Em seguida, escolha k =1, use a parte de treinamento para modelagem e calcule a precisão da previsão usando todas as amostras em seu conjunto de teste. Repita esse processo, aumentando o k, e veja qual k é o melhor para o seu modelo.\n",
    "\n",
    "Podemos calcular a precisão de KNN para diferentes valores de k."
   ]
  },
  {
   "cell_type": "code",
   "execution_count": 54,
   "id": "d1104578-944a-44b9-bd65-10ab0fc780e3",
   "metadata": {},
   "outputs": [
    {
     "data": {
      "text/plain": [
       "array([0.3  , 0.29 , 0.315, 0.32 , 0.315, 0.31 , 0.335, 0.325, 0.34 ])"
      ]
     },
     "execution_count": 54,
     "metadata": {},
     "output_type": "execute_result"
    }
   ],
   "source": [
    "Ks=10\n",
    "mean_acc = np.zeros((Ks-1))\n",
    "std_acc = np.zeros((Ks -1))\n",
    "\n",
    "for n in range (1,Ks):\n",
    "    neigh = KNeighborsClassifier(n_neighbors = n).fit(x_train, y_train)\n",
    "    yhat=neigh.predict(x_test)\n",
    "    mean_acc[n-1] = metrics.accuracy_score(y_test,yhat)\n",
    "    \n",
    "    std_acc[n-1] = np.std(yhat==y_test)/np.sqrt(yhat.shape[0])\n",
    "mean_acc"
   ]
  },
  {
   "cell_type": "code",
   "execution_count": 55,
   "id": "f1ee91f4-8ec1-46be-9191-9ffcd2e673c9",
   "metadata": {},
   "outputs": [],
   "source": [
    "#### Plotando o modelo"
   ]
  },
  {
   "cell_type": "code",
   "execution_count": 57,
   "id": "3f48f9ba-506c-494b-b3ac-ca5aa9c212c9",
   "metadata": {},
   "outputs": [
    {
     "data": {
      "image/png": "[encoded data removed]",
      "text/plain": [
       "<Figure size 640x480 with 1 Axes>"
      ]
     },
     "metadata": {},
     "output_type": "display_data"
    }
   ],
   "source": [
    "plt.plot(range(1,Ks),mean_acc,'g')\n",
    "plt.fill_between(range(1,Ks),mean_acc - 1 * std_acc,mean_acc + 1 * std_acc, alpha=0.10)\n",
    "plt.fill_between(range(1,Ks),mean_acc - 3 * std_acc,mean_acc + 3 * std_acc, alpha=0.10,color=\"green\")\n",
    "plt.legend(('Accuracy ', '+/- 1xstd','+/- 3xstd'))\n",
    "plt.ylabel('Acuricidade ')\n",
    "plt.xlabel('Numero de Neighbors (K)')\n",
    "plt.tight_layout()\n",
    "plt.show()"
   ]
  },
  {
   "cell_type": "code",
   "execution_count": 59,
   "id": "cb361bb5-7f0c-49f1-a99e-a1b4f7fafa12",
   "metadata": {},
   "outputs": [
    {
     "name": "stdout",
     "output_type": "stream",
     "text": [
      "A melhor acuricidade foi de 0.34 com k= 9\n"
     ]
    }
   ],
   "source": [
    "print( \"A melhor acuricidade foi de\", mean_acc.max(), \"com k=\", mean_acc.argmax()+1) "
   ]
  },
  {
   "cell_type": "markdown",
   "id": "3f09b9d4-59e0-4eaa-a2ea-e24b936e464b",
   "metadata": {},
   "source": [
    "#### Perfil Profissional"
   ]
  },
  {
   "cell_type": "markdown",
   "id": "caf1b5ee-d52e-47d2-afa8-0c6416ca8391",
   "metadata": {},
   "source": [
    "<p style=\"text-align:center\">\n",
    "    <a href=\"https://www.linkedin.com/in/antoniocmmachado/\">\n",
    "<img src=\"https://onedrive.live.com/embed?resid=F14527FE21AE4226%213575&authkey=%21AFPf4ZeZfF33KJ8&width=256\" whidth=5 alt= \"Antonio\"/>\n",
    "    </a>\n",
    "</p>\n",
    "\n",
    "\n",
    "<p style=\"text-align:center\"> \n",
    "\n",
    "                                                      Conheça mais sobre o Autor\n",
    "\n",
    "Sou Antonio Carlos Mariano Machado, um analista BI cursando MBA em Tecnologia para Negócios pela PUC-RS. Tenho experiência em liderar projetos de implantação do setor de BI, desenvolver relatórios em Dashboards no Power BI e analisar dados em SQL. As minhas competências principais são Data Analysis, Microsoft Power BI e Team Leadership.\r\n",
    "No meu último trabalho, fui responsável pelo projeto de BI do grupo JCE, uma empresa de engenharia e construção. Colaborei com as áreas de negócios, financeira e operacional para entender as suas necessidades, definir os indicadores e criar as soluções de BI. Utilizei o Power BI para desenvolver relatórios interativos e dinâmicos que facilitaram a tomada de decisão e a gestão de performance. Também utilizei o SQL para extrair, transformar e carregar os dados de diferentes fontes e criar views otimizadas. Graças ao meu trabalho, o grupo JCE conseguiu aumentar a sua eficiência, reduzir os seus custos e melhorar a sua competitividade no mercado. O meu objetivo é continuar a aprender e a aplicar as melhores práticas de BI, contribuindo para o crescimento e a inovação das organizações. Acredito que posso trazer uma perspectiva diversa e uma experiência valiosa para a equie. </p>."
   ]
  },
  {
   "cell_type": "code",
   "execution_count": null,
   "id": "77cef0af-a58a-425e-9051-c57cdf6766b7",
   "metadata": {},
   "outputs": [],
   "source": []
  }
 ],
 "metadata": {
  "kernelspec": {
   "display_name": "Python 3 (ipykernel)",
   "language": "python",
   "name": "python3"
  },
  "language_info": {
   "codemirror_mode": {
    "name": "ipython",
    "version": 3
   },
   "file_extension": ".py",
   "mimetype": "text/x-python",
   "name": "python",
   "nbconvert_exporter": "python",
   "pygments_lexer": "ipython3",
   "version": "3.11.7"
  }
 },
 "nbformat": 4,
 "nbformat_minor": 5
}
