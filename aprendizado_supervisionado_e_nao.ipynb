{
  "nbformat": 4,
  "nbformat_minor": 0,
  "metadata": {
    "colab": {
      "provenance": [],
      "authorship_tag": "ABX9TyPCyhIm6YD3aefkK2ac+WnA",
      "include_colab_link": true
    },
    "kernelspec": {
      "name": "python3",
      "display_name": "Python 3"
    },
    "language_info": {
      "name": "python"
    }
  },
  "cells": [
    {
      "cell_type": "markdown",
      "metadata": {
        "id": "view-in-github",
        "colab_type": "text"
      },
      "source": [
        "<a href=\"https://colab.research.google.com/github/antoniocmmachado/DATASCIENSE/blob/main/aprendizado_supervisionado_e_nao.ipynb\" target=\"_parent\"><img src=\"https://colab.research.google.com/assets/colab-badge.svg\" alt=\"Open In Colab\"/></a>"
      ]
    },
    {
      "cell_type": "code",
      "execution_count": null,
      "metadata": {
        "id": "514W-qycEDBv"
      },
      "outputs": [],
      "source": []
    },
    {
      "cell_type": "markdown",
      "source": [
        "Machine Learning\n",
        "\n",
        "Dados supervisionados e não supervisionados\n",
        "\n",
        "Há dois tipos de técnicas de Aprendizado Supervisionado\n",
        "\n",
        "1. Classificação\n",
        "2. Regressão\n",
        "\n",
        "Os dados supervisionados utiliza um Dataframe de dados conhecidos\n",
        "\n",
        "<hr>\n",
        "\n",
        "Técnincas Utilizadas para o Aprendizado Não Supervisionado\n",
        "\n",
        "1. Redução de Dimensões\n",
        "2. Estimativa de Densidade\n",
        "3. Análise de Afinidade\n",
        "4. Agrupamento (Clustering)\n",
        "\n",
        "Os dados do aprendizado Não Supervionado Utiliza o banco de dados como fonte.\n",
        "<hr>\n"
      ],
      "metadata": {
        "id": "pIOFmsSiFrpJ"
      }
    }
  ]
}