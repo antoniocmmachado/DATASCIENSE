{
 "cells": [
  {
   "cell_type": "markdown",
   "id": "532f2edf-d362-4db2-b427-91b9ddbc2c75",
   "metadata": {
    "tags": []
   },
   "source": [
    "# Data Science Tools and Ecosystem\n",
    "\n",
    "\n"
   ]
  },
  {
   "cell_type": "markdown",
   "id": "feff5c65-2863-422c-ae28-30b024f18901",
   "metadata": {
    "jp-MarkdownHeadingCollapsed": true,
    "tags": []
   },
   "source": [
    "### In this Notebook, Data Science Tools and Ecosystem are Sumary\n",
    "### Some of the popular languages that Data Scientists use are:\n",
    "\n",
    "    1. Python\n",
    "    2. Java\n",
    "    3.C++\n",
    "    4. C"
   ]
  },
  {
   "cell_type": "markdown",
   "id": "55f1790e-a280-437a-9aa0-83337cd571d5",
   "metadata": {
    "tags": []
   },
   "source": [
    "## Nome of the commonly used libraries used by Data Scientists include:\n",
    "    1.Numpy\n",
    "    2.Matplotlib\n",
    "    3.Scikit-Laern\n",
    "    4.TensorFlow\n",
    " ## **Objetivos**\n",
    "    1.Criar um novo notebook Jupiter\n",
    "    2. Criar células\n",
    "    3.Formatos de texto\n",
    "    4. Listar dicionários populares\n",
    "    5. Listar linguagens mais utilizadas"
   ]
  },
  {
   "cell_type": "markdown",
   "id": "6319be47-4933-4aaf-b1b0-35e3970f3228",
   "metadata": {
    "tags": []
   },
   "source": [
    "|Data Science Tools|\n",
    "|------------------|\n",
    "|Apache Hadoop|\n",
    "|SAS|\n",
    "|Apache Spark|"
   ]
  },
  {
   "cell_type": "markdown",
   "id": "2aff822b-2c44-4b7c-b634-23f2ed91109b",
   "metadata": {
    "tags": []
   },
   "source": [
    "### Below are a few examples of evaluating arithmetic expressions in Python\n"
   ]
  },
  {
   "cell_type": "code",
   "execution_count": 2,
   "id": "751722a2-cb62-4762-8e96-c9aeea07cd3f",
   "metadata": {
    "tags": []
   },
   "outputs": [
    {
     "data": {
      "text/plain": [
       "4"
      ]
     },
     "execution_count": 2,
     "metadata": {},
     "output_type": "execute_result"
    }
   ],
   "source": [
    "#This a simple arithmetic expression to mutiply then add integers\n",
    "\n",
    "(3*4)+5"
   ]
  },
  {
   "cell_type": "code",
   "execution_count": 3,
   "id": "807efb85-7002-427a-a2d3-a1e14a10d974",
   "metadata": {
    "tags": []
   },
   "outputs": [
    {
     "data": {
      "text/plain": [
       "4.0"
      ]
     },
     "execution_count": 3,
     "metadata": {},
     "output_type": "execute_result"
    }
   ],
   "source": [
    "#  This will convert 200 minutes to hours by diving by 6\n",
    "\n",
    "200/60"
   ]
  },
  {
   "cell_type": "markdown",
   "id": "4b52798d-d734-42a2-a040-24e1d03dde1d",
   "metadata": {},
   "source": [
    "## AUTHOR: ANTONIO CARLOS M M"
   ]
  },
  {
   "cell_type": "code",
   "execution_count": null,
   "id": "d232ce8e-2edc-4244-b264-519ea8c0d9c8",
   "metadata": {},
   "outputs": [],
   "source": []
  }
 ],
 "metadata": {
  "kernelspec": {
   "display_name": "Python",
   "language": "python",
   "name": "conda-env-python-py"
  },
  "language_info": {
   "codemirror_mode": {
    "name": "ipython",
    "version": 3
   },
   "file_extension": ".py",
   "mimetype": "text/x-python",
   "name": "python",
   "nbconvert_exporter": "python",
   "pygments_lexer": "ipython3",
   "version": "3.7.12"
  },
  "toc-showcode": true,
  "toc-showtags": true
 },
 "nbformat": 4,
 "nbformat_minor": 5
}
