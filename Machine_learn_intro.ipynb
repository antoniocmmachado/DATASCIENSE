{
  "nbformat": 4,
  "nbformat_minor": 0,
  "metadata": {
    "colab": {
      "provenance": [],
      "authorship_tag": "ABX9TyOy99ivY+6n1iH7Stg2nuXq",
      "include_colab_link": true
    },
    "kernelspec": {
      "name": "python3",
      "display_name": "Python 3"
    },
    "language_info": {
      "name": "python"
    }
  },
  "cells": [
    {
      "cell_type": "markdown",
      "metadata": {
        "id": "view-in-github",
        "colab_type": "text"
      },
      "source": [
        "<a href=\"https://colab.research.google.com/github/antoniocmmachado/DATASCIENSE/blob/main/Machine_learn_intro.ipynb\" target=\"_parent\"><img src=\"https://colab.research.google.com/assets/colab-badge.svg\" alt=\"Open In Colab\"/></a>"
      ]
    },
    {
      "cell_type": "code",
      "execution_count": null,
      "metadata": {
        "id": "37XY61mw2NWD"
      },
      "outputs": [],
      "source": []
    },
    {
      "cell_type": "markdown",
      "source": [
        "Introdução ao Machine Learning\n",
        "### Bibliotecas\n",
        "\n",
        "1.  Matplotlib\n",
        "2.  Pandas\n",
        "3.  Scipy\n",
        "4. scikit Lear\n",
        "5. Numpy\n",
        "\n",
        "<hr>\n",
        "\n",
        "### **scikit-learn funções**\n",
        "\n",
        "---\n",
        "\n",
        "\n",
        "\n",
        "from sklean import preprocessing\n",
        "\n",
        "x = preprocessing.StandardScaler().fit(x).transform(X)\n",
        "\n",
        "<hr>\n",
        "\n",
        "### Importante\n",
        "Você deve separar os dados em dois modelos, modelo de teste e modelo de treino. Com scikit-learn é possivel realizar em uma linha de código:\n",
        "\n",
        "from sklearn.model_selection import train_test_split\n",
        "x_train,x_test,y_train, _test = train_test_split(x,y,test_size=0.33)\n",
        "\n",
        "\n",
        "#### configurando o algoritimo\n",
        "\n",
        "from sklearn import svm\n",
        "clf = svm.SVC(gamma = 0.001,C=100.)\n",
        "\n",
        "\n",
        "### classificando casos desconhecidos\n",
        "\n",
        "clf.fit(x_train,y_train)\n",
        "\n",
        "clf.predict(x_test)\n",
        "\n",
        "\n",
        "### Matriz de confusão\n",
        "\n",
        "from skearn.metrics import confusion_matrix\n",
        "print (confusion_matrix(y_test,yhat,labels=[1,0]))\n",
        "\n",
        "### gravando o modelo\n",
        "\n",
        "import pickle.dumps (clf)\n",
        "\n"
      ],
      "metadata": {
        "id": "dzYmfsSY2ORv"
      }
    },
    {
      "cell_type": "markdown",
      "source": [],
      "metadata": {
        "id": "2AjI5D76Domy"
      }
    },
    {
      "cell_type": "markdown",
      "source": [],
      "metadata": {
        "id": "5fRGuzHB8hG5"
      }
    }
  ]
}